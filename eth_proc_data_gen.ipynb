{
 "cells": [
  {
   "cell_type": "code",
   "execution_count": 1,
   "metadata": {},
   "outputs": [],
   "source": [
    "import pandas as pd\n",
    "import numpy as np"
   ]
  },
  {
   "cell_type": "code",
   "execution_count": 2,
   "metadata": {},
   "outputs": [],
   "source": [
    "#cargamos los datos diarios de precios de Ethereum, desde 01/01/2015 a 26/09/2021\n",
    "eth_hist = pd.read_csv('./ETH-USD.csv')"
   ]
  },
  {
   "cell_type": "code",
   "execution_count": 3,
   "metadata": {},
   "outputs": [
    {
     "data": {
      "text/html": [
       "<div>\n",
       "<style scoped>\n",
       "    .dataframe tbody tr th:only-of-type {\n",
       "        vertical-align: middle;\n",
       "    }\n",
       "\n",
       "    .dataframe tbody tr th {\n",
       "        vertical-align: top;\n",
       "    }\n",
       "\n",
       "    .dataframe thead th {\n",
       "        text-align: right;\n",
       "    }\n",
       "</style>\n",
       "<table border=\"1\" class=\"dataframe\">\n",
       "  <thead>\n",
       "    <tr style=\"text-align: right;\">\n",
       "      <th></th>\n",
       "      <th>Date</th>\n",
       "      <th>Open</th>\n",
       "      <th>High</th>\n",
       "      <th>Low</th>\n",
       "      <th>Close</th>\n",
       "      <th>Adj Close</th>\n",
       "      <th>Volume</th>\n",
       "    </tr>\n",
       "  </thead>\n",
       "  <tbody>\n",
       "    <tr>\n",
       "      <th>0</th>\n",
       "      <td>2015-08-07</td>\n",
       "      <td>2.831620</td>\n",
       "      <td>3.536610</td>\n",
       "      <td>2.521120</td>\n",
       "      <td>2.772120</td>\n",
       "      <td>2.772120</td>\n",
       "      <td>164329.0</td>\n",
       "    </tr>\n",
       "    <tr>\n",
       "      <th>1</th>\n",
       "      <td>2015-08-08</td>\n",
       "      <td>2.793760</td>\n",
       "      <td>2.798810</td>\n",
       "      <td>0.714725</td>\n",
       "      <td>0.753325</td>\n",
       "      <td>0.753325</td>\n",
       "      <td>674188.0</td>\n",
       "    </tr>\n",
       "    <tr>\n",
       "      <th>2</th>\n",
       "      <td>2015-08-09</td>\n",
       "      <td>0.706136</td>\n",
       "      <td>0.879810</td>\n",
       "      <td>0.629191</td>\n",
       "      <td>0.701897</td>\n",
       "      <td>0.701897</td>\n",
       "      <td>532170.0</td>\n",
       "    </tr>\n",
       "    <tr>\n",
       "      <th>3</th>\n",
       "      <td>2015-08-10</td>\n",
       "      <td>0.713989</td>\n",
       "      <td>0.729854</td>\n",
       "      <td>0.636546</td>\n",
       "      <td>0.708448</td>\n",
       "      <td>0.708448</td>\n",
       "      <td>405283.0</td>\n",
       "    </tr>\n",
       "    <tr>\n",
       "      <th>4</th>\n",
       "      <td>2015-08-11</td>\n",
       "      <td>0.708087</td>\n",
       "      <td>1.131410</td>\n",
       "      <td>0.663235</td>\n",
       "      <td>1.067860</td>\n",
       "      <td>1.067860</td>\n",
       "      <td>1463100.0</td>\n",
       "    </tr>\n",
       "    <tr>\n",
       "      <th>5</th>\n",
       "      <td>2015-08-12</td>\n",
       "      <td>1.058750</td>\n",
       "      <td>1.289940</td>\n",
       "      <td>0.883608</td>\n",
       "      <td>1.217440</td>\n",
       "      <td>1.217440</td>\n",
       "      <td>2150620.0</td>\n",
       "    </tr>\n",
       "    <tr>\n",
       "      <th>6</th>\n",
       "      <td>2015-08-13</td>\n",
       "      <td>1.222240</td>\n",
       "      <td>1.965070</td>\n",
       "      <td>1.171990</td>\n",
       "      <td>1.827670</td>\n",
       "      <td>1.827670</td>\n",
       "      <td>4068680.0</td>\n",
       "    </tr>\n",
       "    <tr>\n",
       "      <th>7</th>\n",
       "      <td>2015-08-14</td>\n",
       "      <td>1.810920</td>\n",
       "      <td>2.261880</td>\n",
       "      <td>1.754750</td>\n",
       "      <td>1.827870</td>\n",
       "      <td>1.827870</td>\n",
       "      <td>4637030.0</td>\n",
       "    </tr>\n",
       "    <tr>\n",
       "      <th>8</th>\n",
       "      <td>2015-08-15</td>\n",
       "      <td>1.802890</td>\n",
       "      <td>1.877240</td>\n",
       "      <td>1.570980</td>\n",
       "      <td>1.688900</td>\n",
       "      <td>1.688900</td>\n",
       "      <td>2554360.0</td>\n",
       "    </tr>\n",
       "    <tr>\n",
       "      <th>9</th>\n",
       "      <td>2015-08-16</td>\n",
       "      <td>1.684350</td>\n",
       "      <td>1.695240</td>\n",
       "      <td>1.089810</td>\n",
       "      <td>1.566030</td>\n",
       "      <td>1.566030</td>\n",
       "      <td>3550790.0</td>\n",
       "    </tr>\n",
       "  </tbody>\n",
       "</table>\n",
       "</div>"
      ],
      "text/plain": [
       "         Date      Open      High       Low     Close  Adj Close     Volume\n",
       "0  2015-08-07  2.831620  3.536610  2.521120  2.772120   2.772120   164329.0\n",
       "1  2015-08-08  2.793760  2.798810  0.714725  0.753325   0.753325   674188.0\n",
       "2  2015-08-09  0.706136  0.879810  0.629191  0.701897   0.701897   532170.0\n",
       "3  2015-08-10  0.713989  0.729854  0.636546  0.708448   0.708448   405283.0\n",
       "4  2015-08-11  0.708087  1.131410  0.663235  1.067860   1.067860  1463100.0\n",
       "5  2015-08-12  1.058750  1.289940  0.883608  1.217440   1.217440  2150620.0\n",
       "6  2015-08-13  1.222240  1.965070  1.171990  1.827670   1.827670  4068680.0\n",
       "7  2015-08-14  1.810920  2.261880  1.754750  1.827870   1.827870  4637030.0\n",
       "8  2015-08-15  1.802890  1.877240  1.570980  1.688900   1.688900  2554360.0\n",
       "9  2015-08-16  1.684350  1.695240  1.089810  1.566030   1.566030  3550790.0"
      ]
     },
     "execution_count": 3,
     "metadata": {},
     "output_type": "execute_result"
    }
   ],
   "source": [
    "eth_hist.head(10)"
   ]
  },
  {
   "cell_type": "code",
   "execution_count": 4,
   "metadata": {},
   "outputs": [
    {
     "data": {
      "text/html": [
       "<div>\n",
       "<style scoped>\n",
       "    .dataframe tbody tr th:only-of-type {\n",
       "        vertical-align: middle;\n",
       "    }\n",
       "\n",
       "    .dataframe tbody tr th {\n",
       "        vertical-align: top;\n",
       "    }\n",
       "\n",
       "    .dataframe thead th {\n",
       "        text-align: right;\n",
       "    }\n",
       "</style>\n",
       "<table border=\"1\" class=\"dataframe\">\n",
       "  <thead>\n",
       "    <tr style=\"text-align: right;\">\n",
       "      <th></th>\n",
       "      <th>Date</th>\n",
       "      <th>Open</th>\n",
       "      <th>High</th>\n",
       "      <th>Low</th>\n",
       "      <th>Close</th>\n",
       "      <th>Adj Close</th>\n",
       "      <th>Volume</th>\n",
       "    </tr>\n",
       "  </thead>\n",
       "  <tbody>\n",
       "    <tr>\n",
       "      <th>1715</th>\n",
       "      <td>2020-04-17</td>\n",
       "      <td>NaN</td>\n",
       "      <td>NaN</td>\n",
       "      <td>NaN</td>\n",
       "      <td>NaN</td>\n",
       "      <td>NaN</td>\n",
       "      <td>NaN</td>\n",
       "    </tr>\n",
       "    <tr>\n",
       "      <th>1890</th>\n",
       "      <td>2020-10-09</td>\n",
       "      <td>NaN</td>\n",
       "      <td>NaN</td>\n",
       "      <td>NaN</td>\n",
       "      <td>NaN</td>\n",
       "      <td>NaN</td>\n",
       "      <td>NaN</td>\n",
       "    </tr>\n",
       "    <tr>\n",
       "      <th>1893</th>\n",
       "      <td>2020-10-12</td>\n",
       "      <td>NaN</td>\n",
       "      <td>NaN</td>\n",
       "      <td>NaN</td>\n",
       "      <td>NaN</td>\n",
       "      <td>NaN</td>\n",
       "      <td>NaN</td>\n",
       "    </tr>\n",
       "    <tr>\n",
       "      <th>1894</th>\n",
       "      <td>2020-10-13</td>\n",
       "      <td>NaN</td>\n",
       "      <td>NaN</td>\n",
       "      <td>NaN</td>\n",
       "      <td>NaN</td>\n",
       "      <td>NaN</td>\n",
       "      <td>NaN</td>\n",
       "    </tr>\n",
       "  </tbody>\n",
       "</table>\n",
       "</div>"
      ],
      "text/plain": [
       "            Date  Open  High  Low  Close  Adj Close  Volume\n",
       "1715  2020-04-17   NaN   NaN  NaN    NaN        NaN     NaN\n",
       "1890  2020-10-09   NaN   NaN  NaN    NaN        NaN     NaN\n",
       "1893  2020-10-12   NaN   NaN  NaN    NaN        NaN     NaN\n",
       "1894  2020-10-13   NaN   NaN  NaN    NaN        NaN     NaN"
      ]
     },
     "execution_count": 4,
     "metadata": {},
     "output_type": "execute_result"
    }
   ],
   "source": [
    "#Parece que tenemos algunos datos que faltan.\n",
    "\n",
    "eth_hist[eth_hist.isna().any(axis=1)]"
   ]
  },
  {
   "cell_type": "code",
   "execution_count": 5,
   "metadata": {},
   "outputs": [
    {
     "data": {
      "text/html": [
       "<div>\n",
       "<style scoped>\n",
       "    .dataframe tbody tr th:only-of-type {\n",
       "        vertical-align: middle;\n",
       "    }\n",
       "\n",
       "    .dataframe tbody tr th {\n",
       "        vertical-align: top;\n",
       "    }\n",
       "\n",
       "    .dataframe thead th {\n",
       "        text-align: right;\n",
       "    }\n",
       "</style>\n",
       "<table border=\"1\" class=\"dataframe\">\n",
       "  <thead>\n",
       "    <tr style=\"text-align: right;\">\n",
       "      <th></th>\n",
       "      <th>Date</th>\n",
       "      <th>Open</th>\n",
       "      <th>High</th>\n",
       "      <th>Low</th>\n",
       "      <th>Close</th>\n",
       "      <th>Adj Close</th>\n",
       "      <th>Volume</th>\n",
       "    </tr>\n",
       "  </thead>\n",
       "  <tbody>\n",
       "  </tbody>\n",
       "</table>\n",
       "</div>"
      ],
      "text/plain": [
       "Empty DataFrame\n",
       "Columns: [Date, Open, High, Low, Close, Adj Close, Volume]\n",
       "Index: []"
      ]
     },
     "execution_count": 5,
     "metadata": {},
     "output_type": "execute_result"
    }
   ],
   "source": [
    "#Añadimos a mano los datos, sacándolos de coinmarketcap.com\n",
    "#creamos una copia con modificaciones para no tocar los datos originales\n",
    "\n",
    "eth_hist_m=eth_hist.copy()\n",
    "\n",
    "eth_hist_m.loc[[1894]]=['2020-10-13', 387.14, 387.38, 375.58,\n",
    "        381.19, 381.19, 14226744838.0]\n",
    "eth_hist_m.loc[[1893]]=['2020-10-12', 374.80, 395.12, 366.64,\n",
    "        387.73, 387.73, 15867455424.0]\n",
    "eth_hist_m.loc[[1890]]=['2020-10-09', 351.11, 368.31, 348.21,\n",
    "        365.59, 365.59, 13043501763.0]\n",
    "eth_hist_m.loc[[1715]]=['2020-04-17', 172.28, 174.28, 169.75,\n",
    "        171.64, 171.64, 16714684266.0]\n",
    "\n",
    "eth_hist_m[eth_hist_m.isna().any(axis=1)]"
   ]
  },
  {
   "cell_type": "code",
   "execution_count": 6,
   "metadata": {},
   "outputs": [],
   "source": [
    "#Transformamos Date a formato fecha\n",
    "eth_hist_m['Date']=pd.to_datetime(arg=eth_hist_m['Date'],format='%Y-%m-%d')"
   ]
  },
  {
   "cell_type": "code",
   "execution_count": 7,
   "metadata": {},
   "outputs": [],
   "source": [
    "#Quitamos las columnas que no necesitamos\n",
    "eth_hist_m = eth_hist_m.drop(labels=['Open','High','Low','Adj Close'], axis=1)"
   ]
  },
  {
   "cell_type": "code",
   "execution_count": 8,
   "metadata": {},
   "outputs": [],
   "source": [
    "eth_hist_m['dia']=eth_hist_m['Date'].dt.day_name()\n",
    "eth_hist_m['mes']=eth_hist_m['Date'].dt.month"
   ]
  },
  {
   "cell_type": "code",
   "execution_count": 9,
   "metadata": {},
   "outputs": [
    {
     "name": "stderr",
     "output_type": "stream",
     "text": [
      "/home/dsc/anaconda3/lib/python3.8/site-packages/pandas/core/indexing.py:670: SettingWithCopyWarning: \n",
      "A value is trying to be set on a copy of a slice from a DataFrame\n",
      "\n",
      "See the caveats in the documentation: https://pandas.pydata.org/pandas-docs/stable/user_guide/indexing.html#returning-a-view-versus-a-copy\n",
      "  iloc._setitem_with_indexer(indexer, value)\n"
     ]
    }
   ],
   "source": [
    "#añadimos columnas de variaciones de precio desde el día antes, semana antes y mes antes\n",
    "eth_hist_m['C_dia_ant'] = eth_hist_m['Close'].shift(1)\n",
    "eth_hist_m['C_dia_ant'].loc[[0]]=eth_hist_m['C_dia_ant'][1]\n",
    "\n",
    "eth_hist_m['var_dia_ant']=100*eth_hist_m['Close']/eth_hist_m['C_dia_ant']-100"
   ]
  },
  {
   "cell_type": "code",
   "execution_count": 10,
   "metadata": {},
   "outputs": [],
   "source": [
    "eth_hist_m['C_sem_ant'] = eth_hist_m['Close'].shift(7)\n",
    "\n",
    "for i in range(0,7):\n",
    "    eth_hist_m['C_sem_ant'].loc[[i]]=eth_hist_m['C_sem_ant'][i+7]\n",
    "\n",
    "eth_hist_m['var_sem_ant']=100*eth_hist_m['Close']/eth_hist_m['C_sem_ant']-100"
   ]
  },
  {
   "cell_type": "code",
   "execution_count": 11,
   "metadata": {},
   "outputs": [],
   "source": [
    "eth_hist_m['C_mes_ant'] = eth_hist_m['Close'].shift(30)\n",
    "\n",
    "for i in range(0,30):\n",
    "    eth_hist_m['C_mes_ant'].loc[[i]]=eth_hist_m['C_mes_ant'][i+30]\n",
    "\n",
    "eth_hist_m['var_mes_ant']=100*eth_hist_m['Close']/eth_hist_m['C_mes_ant']-100"
   ]
  },
  {
   "cell_type": "code",
   "execution_count": 12,
   "metadata": {},
   "outputs": [
    {
     "data": {
      "text/plain": [
       "dia\n",
       "Friday       0.414953\n",
       "Monday       0.404541\n",
       "Saturday     0.457005\n",
       "Sunday       0.515044\n",
       "Thursday     0.538756\n",
       "Tuesday      0.671332\n",
       "Wednesday    0.705835\n",
       "Name: var_dia_ant, dtype: float64"
      ]
     },
     "execution_count": 12,
     "metadata": {},
     "output_type": "execute_result"
    }
   ],
   "source": [
    "#Parece que hay diferencias importantes entre los días de la semana (los miércoles sube mucho más que los lunes)\n",
    "eth_hist_m.groupby('dia')['var_dia_ant'].mean()"
   ]
  },
  {
   "cell_type": "code",
   "execution_count": 13,
   "metadata": {},
   "outputs": [
    {
     "data": {
      "text/plain": [
       "dia\n",
       "Friday       52.024922\n",
       "Monday       49.062500\n",
       "Saturday     56.697819\n",
       "Sunday       50.155763\n",
       "Thursday     47.812500\n",
       "Tuesday      49.687500\n",
       "Wednesday    51.875000\n",
       "Name: var_dia_ant, dtype: float64"
      ]
     },
     "execution_count": 13,
     "metadata": {},
     "output_type": "execute_result"
    }
   ],
   "source": [
    "#ahora vamos a mirar si hay diferencia significativa en el número de veces que ha subido la cotización por día de la semana\n",
    "#los \"mejores\" días cambian respecto a los de las magnitudes de las variaciones, pero sigue habiendo diferencias importantes\n",
    "#en este caso hay un 7,5% más de posibilidades de que la cotización suba un sábado que de que suba un lunes\n",
    "eth_hist_m.groupby('dia')['var_dia_ant'].apply(lambda x: (x>0).sum()/(x).count())*100"
   ]
  },
  {
   "cell_type": "code",
   "execution_count": 14,
   "metadata": {},
   "outputs": [
    {
     "data": {
      "text/plain": [
       "mes\n",
       "1     42.838526\n",
       "2     55.569954\n",
       "3     59.113043\n",
       "4     15.134984\n",
       "5     53.303120\n",
       "6     44.127869\n",
       "7     -9.373597\n",
       "8      8.314592\n",
       "9     -6.046958\n",
       "10    -0.601752\n",
       "11     1.206236\n",
       "12     7.636542\n",
       "Name: var_mes_ant, dtype: float64"
      ]
     },
     "execution_count": 14,
     "metadata": {},
     "output_type": "execute_result"
    }
   ],
   "source": [
    "#Parece que hay diferencias significativas entre los meses,\n",
    "#pero no me atrevo a decir que esto sea representativo de nada\n",
    "#porque tenemos muy pocos meses de cada (6 años y pico de datos)\n",
    "eth_hist_m[(eth_hist_m['Date']<'2021-01-01') & (eth_hist_m['Date']>'2015-12-31')].groupby('mes')['var_mes_ant'].mean()"
   ]
  },
  {
   "cell_type": "code",
   "execution_count": 15,
   "metadata": {},
   "outputs": [
    {
     "name": "stderr",
     "output_type": "stream",
     "text": [
      "/home/dsc/anaconda3/lib/python3.8/site-packages/pandas/core/indexing.py:670: SettingWithCopyWarning: \n",
      "A value is trying to be set on a copy of a slice from a DataFrame\n",
      "\n",
      "See the caveats in the documentation: https://pandas.pydata.org/pandas-docs/stable/user_guide/indexing.html#returning-a-view-versus-a-copy\n",
      "  iloc._setitem_with_indexer(indexer, value)\n"
     ]
    }
   ],
   "source": [
    "#añadimos columnas de variaciones de volumen desde el día antes\n",
    "eth_hist_m['V_dia_ant'] = eth_hist_m['Volume'].shift(1)\n",
    "eth_hist_m['V_dia_ant'].loc[[0]]=eth_hist_m['V_dia_ant'][1]\n",
    "\n",
    "eth_hist_m['var_V_dia_ant']=100*eth_hist_m['Volume']/eth_hist_m['V_dia_ant']-100"
   ]
  },
  {
   "cell_type": "code",
   "execution_count": 16,
   "metadata": {},
   "outputs": [],
   "source": [
    "#ahora creamos el set de datos de verdad, que por ahora va a contener:\n",
    "#los datos de variación de precios diarios de los últimos 30 días\n",
    "#los datos de variación de volúmenes diarios de los últimos 30 días\n",
    "#los datos de variación de precios semanales desde 4 semanas antes a 12 semanas antes\n",
    "#los datos de variación de precios mensuales desde 3 meses antes a 11 meses antes\n",
    "#el día de la semana\n",
    "#si el precio subió (1) o no (0) al día siguiente. Esta es la columna objetivo\n",
    "#todo esto desde el 1 de enero de 2017, más tarde separaremos los datos de training y de test\n",
    "#(ethereum empezó a cotizar en agosto de 2015 y los primeros meses no parecen significativos)\n",
    "\n",
    "columnasData=['varP0', 'varP1', 'varP2', 'varP3', 'varP4', 'varP5', 'varP6', 'varP7', 'varP8', 'varP9',\n",
    "             'varP10', 'varP11', 'varP12', 'varP13', 'varP14', 'varP15', 'varP16', 'varP17', 'varP18', 'varP19',\n",
    "             'varP20', 'varP21', 'varP22', 'varP23', 'varP24', 'varP25', 'varP26', 'varP27', 'varP28', 'varP29',\n",
    "             'varPs30', 'varPs37', 'varPs44', 'varPs51', 'varPs58', 'varPs65', 'varPs72', 'varPs79', 'varPs86',\n",
    "             'varPm93', 'varPm123', 'varPm153', 'varPm183', 'varPm213', 'varPm243', 'varPm273', 'varPm303',\n",
    "             'varPm333',\n",
    "             'varV0', 'varV1', 'varV2', 'varV3', 'varV4', 'varV5', 'varV6', 'varV7', 'varV8', 'varV9',\n",
    "             'varV10', 'varV11', 'varV12', 'varV13', 'varV14', 'varV15', 'varV16', 'varV17', 'varV18', 'varV19',\n",
    "             'varV20', 'varV21', 'varV22', 'varV23', 'varV24', 'varV25', 'varV26', 'varV27', 'varV28', 'varV29',\n",
    "             'dia', 'subida']\n",
    "data_for_use = pd.DataFrame(columns=columnasData)\n",
    "\n",
    "\n",
    "for i in range(0,eth_hist_m.shape[0]-1):\n",
    "    if eth_hist_m['Date'][i]>pd.to_datetime(arg='2016-12-31',format='%Y-%m-%d'):\n",
    "        dtemp = pd.concat([pd.DataFrame(eth_hist_m['var_dia_ant'][i-29:i+1][::-1].values),\n",
    "                            pd.DataFrame(eth_hist_m['var_sem_ant'][i-92:i-29][::-7].values),\n",
    "                            pd.DataFrame(eth_hist_m['var_mes_ant'][i-362:i-92][::-30].values),\n",
    "                            pd.DataFrame(eth_hist_m['var_V_dia_ant'][i-29:i+1][::-1].values),\n",
    "                            pd.DataFrame([eth_hist_m['dia'][i]]),\n",
    "                            pd.DataFrame([eth_hist_m['var_dia_ant'][i+1]>0])],\n",
    "                          ignore_index=True, axis=0).T\n",
    "\n",
    "        dtemp = dtemp.set_index(keys=[eth_hist_m['Date'].loc[[i]]])\n",
    "        \n",
    "        new_cols = {x: y for x, y in zip(dtemp.columns, data_for_use.columns)}\n",
    "\n",
    "        dtemp = dtemp.rename(columns=new_cols)\n",
    "\n",
    "        data_for_use = data_for_use.append(dtemp.rename(columns=new_cols))"
   ]
  },
  {
   "cell_type": "code",
   "execution_count": 17,
   "metadata": {},
   "outputs": [],
   "source": [
    "data_for_use.to_csv('ethereum_data_for_use.csv')"
   ]
  },
  {
   "cell_type": "code",
   "execution_count": null,
   "metadata": {},
   "outputs": [],
   "source": []
  }
 ],
 "metadata": {
  "kernelspec": {
   "display_name": "Python 3",
   "language": "python",
   "name": "python3"
  },
  "language_info": {
   "codemirror_mode": {
    "name": "ipython",
    "version": 3
   },
   "file_extension": ".py",
   "mimetype": "text/x-python",
   "name": "python",
   "nbconvert_exporter": "python",
   "pygments_lexer": "ipython3",
   "version": "3.8.5"
  }
 },
 "nbformat": 4,
 "nbformat_minor": 4
}
