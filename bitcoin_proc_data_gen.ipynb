{
 "cells": [
  {
   "cell_type": "code",
   "execution_count": 1,
   "metadata": {},
   "outputs": [],
   "source": [
    "import pandas as pd\n",
    "import numpy as np"
   ]
  },
  {
   "cell_type": "code",
   "execution_count": 2,
   "metadata": {},
   "outputs": [],
   "source": [
    "#cargamos los datos diarios de precios de bitcoin, desde 01/01/2015 a 26/09/2021\n",
    "btc_hist = pd.read_csv('./BTC-USD.csv')"
   ]
  },
  {
   "cell_type": "code",
   "execution_count": 3,
   "metadata": {},
   "outputs": [
    {
     "data": {
      "text/html": [
       "<div>\n",
       "<style scoped>\n",
       "    .dataframe tbody tr th:only-of-type {\n",
       "        vertical-align: middle;\n",
       "    }\n",
       "\n",
       "    .dataframe tbody tr th {\n",
       "        vertical-align: top;\n",
       "    }\n",
       "\n",
       "    .dataframe thead th {\n",
       "        text-align: right;\n",
       "    }\n",
       "</style>\n",
       "<table border=\"1\" class=\"dataframe\">\n",
       "  <thead>\n",
       "    <tr style=\"text-align: right;\">\n",
       "      <th></th>\n",
       "      <th>Date</th>\n",
       "      <th>Open</th>\n",
       "      <th>High</th>\n",
       "      <th>Low</th>\n",
       "      <th>Close</th>\n",
       "      <th>Adj Close</th>\n",
       "      <th>Volume</th>\n",
       "    </tr>\n",
       "  </thead>\n",
       "  <tbody>\n",
       "    <tr>\n",
       "      <th>1933</th>\n",
       "      <td>2020-04-17</td>\n",
       "      <td>NaN</td>\n",
       "      <td>NaN</td>\n",
       "      <td>NaN</td>\n",
       "      <td>NaN</td>\n",
       "      <td>NaN</td>\n",
       "      <td>NaN</td>\n",
       "    </tr>\n",
       "    <tr>\n",
       "      <th>2108</th>\n",
       "      <td>2020-10-09</td>\n",
       "      <td>NaN</td>\n",
       "      <td>NaN</td>\n",
       "      <td>NaN</td>\n",
       "      <td>NaN</td>\n",
       "      <td>NaN</td>\n",
       "      <td>NaN</td>\n",
       "    </tr>\n",
       "    <tr>\n",
       "      <th>2111</th>\n",
       "      <td>2020-10-12</td>\n",
       "      <td>NaN</td>\n",
       "      <td>NaN</td>\n",
       "      <td>NaN</td>\n",
       "      <td>NaN</td>\n",
       "      <td>NaN</td>\n",
       "      <td>NaN</td>\n",
       "    </tr>\n",
       "    <tr>\n",
       "      <th>2112</th>\n",
       "      <td>2020-10-13</td>\n",
       "      <td>NaN</td>\n",
       "      <td>NaN</td>\n",
       "      <td>NaN</td>\n",
       "      <td>NaN</td>\n",
       "      <td>NaN</td>\n",
       "      <td>NaN</td>\n",
       "    </tr>\n",
       "  </tbody>\n",
       "</table>\n",
       "</div>"
      ],
      "text/plain": [
       "            Date  Open  High  Low  Close  Adj Close  Volume\n",
       "1933  2020-04-17   NaN   NaN  NaN    NaN        NaN     NaN\n",
       "2108  2020-10-09   NaN   NaN  NaN    NaN        NaN     NaN\n",
       "2111  2020-10-12   NaN   NaN  NaN    NaN        NaN     NaN\n",
       "2112  2020-10-13   NaN   NaN  NaN    NaN        NaN     NaN"
      ]
     },
     "execution_count": 3,
     "metadata": {},
     "output_type": "execute_result"
    }
   ],
   "source": [
    "#Parece que tenemos algunos datos que faltan.\n",
    "\n",
    "btc_hist[btc_hist.isna().any(axis=1)]"
   ]
  },
  {
   "cell_type": "code",
   "execution_count": 5,
   "metadata": {},
   "outputs": [
    {
     "data": {
      "text/html": [
       "<div>\n",
       "<style scoped>\n",
       "    .dataframe tbody tr th:only-of-type {\n",
       "        vertical-align: middle;\n",
       "    }\n",
       "\n",
       "    .dataframe tbody tr th {\n",
       "        vertical-align: top;\n",
       "    }\n",
       "\n",
       "    .dataframe thead th {\n",
       "        text-align: right;\n",
       "    }\n",
       "</style>\n",
       "<table border=\"1\" class=\"dataframe\">\n",
       "  <thead>\n",
       "    <tr style=\"text-align: right;\">\n",
       "      <th></th>\n",
       "      <th>Date</th>\n",
       "      <th>Open</th>\n",
       "      <th>High</th>\n",
       "      <th>Low</th>\n",
       "      <th>Close</th>\n",
       "      <th>Adj Close</th>\n",
       "      <th>Volume</th>\n",
       "    </tr>\n",
       "  </thead>\n",
       "  <tbody>\n",
       "  </tbody>\n",
       "</table>\n",
       "</div>"
      ],
      "text/plain": [
       "Empty DataFrame\n",
       "Columns: [Date, Open, High, Low, Close, Adj Close, Volume]\n",
       "Index: []"
      ]
     },
     "execution_count": 5,
     "metadata": {},
     "output_type": "execute_result"
    }
   ],
   "source": [
    "#Añadimos a mano los datos, sacándolos de coinmarketcap.com\n",
    "#creamos una copia con modificaciones para no tocar los datos originales\n",
    "\n",
    "btc_hist_m=btc_hist.copy()\n",
    "\n",
    "btc_hist_m.loc[[2112]]=['2020-10-13', 11548.72, 11548.98, 11321.22,\n",
    "        11425.90, 11425.90, 24241420251.0]\n",
    "btc_hist_m.loc[[2111]]=['2020-10-12', 11392.64, 11698.47, 11240.69,\n",
    "        11555.36, 11555.36, 26163972642.0]\n",
    "btc_hist_m.loc[[2108]]=['2020-10-09', 10927.91, 11102.67, 10846.85,\n",
    "        11064.46, 11064.46, 22799117613.0]\n",
    "btc_hist_m.loc[[1933]]=['2020-04-17', 7116.55, 7167.18, 7050.33,\n",
    "        7096.18, 7096.18, 32513423567.0]\n",
    "\n",
    "btc_hist_m[btc_hist_m.isna().any(axis=1)]"
   ]
  },
  {
   "cell_type": "code",
   "execution_count": 6,
   "metadata": {},
   "outputs": [],
   "source": [
    "#Transformamos Date a formato fecha\n",
    "btc_hist_m['Date']=pd.to_datetime(arg=btc_hist_m['Date'],format='%Y-%m-%d')"
   ]
  },
  {
   "cell_type": "code",
   "execution_count": 7,
   "metadata": {},
   "outputs": [],
   "source": [
    "#Quitamos las columnas que no necesitamos\n",
    "btc_hist_m = btc_hist_m.drop(labels=['Open','High','Low','Adj Close'], axis=1)"
   ]
  },
  {
   "cell_type": "code",
   "execution_count": 8,
   "metadata": {},
   "outputs": [],
   "source": [
    "btc_hist_m['dia']=btc_hist_m['Date'].dt.day_name()\n",
    "btc_hist_m['mes']=btc_hist_m['Date'].dt.month"
   ]
  },
  {
   "cell_type": "code",
   "execution_count": 9,
   "metadata": {},
   "outputs": [
    {
     "name": "stderr",
     "output_type": "stream",
     "text": [
      "/home/dsc/anaconda3/lib/python3.8/site-packages/pandas/core/indexing.py:670: SettingWithCopyWarning: \n",
      "A value is trying to be set on a copy of a slice from a DataFrame\n",
      "\n",
      "See the caveats in the documentation: https://pandas.pydata.org/pandas-docs/stable/user_guide/indexing.html#returning-a-view-versus-a-copy\n",
      "  iloc._setitem_with_indexer(indexer, value)\n"
     ]
    }
   ],
   "source": [
    "#añadimos columnas de variaciones de precio desde el día antes, semana antes y mes antes\n",
    "btc_hist_m['C_dia_ant'] = btc_hist_m['Close'].shift(1)\n",
    "btc_hist_m['C_dia_ant'].loc[[0]]=btc_hist_m['C_dia_ant'][1]\n",
    "\n",
    "btc_hist_m['var_dia_ant']=100*btc_hist_m['Close']/btc_hist_m['C_dia_ant']-100"
   ]
  },
  {
   "cell_type": "code",
   "execution_count": 10,
   "metadata": {},
   "outputs": [],
   "source": [
    "btc_hist_m['C_sem_ant'] = btc_hist_m['Close'].shift(7)\n",
    "\n",
    "for i in range(0,7):\n",
    "    btc_hist_m['C_sem_ant'].loc[[i]]=btc_hist_m['C_sem_ant'][i+7]\n",
    "\n",
    "btc_hist_m['var_sem_ant']=100*btc_hist_m['Close']/btc_hist_m['C_sem_ant']-100"
   ]
  },
  {
   "cell_type": "code",
   "execution_count": 11,
   "metadata": {},
   "outputs": [],
   "source": [
    "btc_hist_m['C_mes_ant'] = btc_hist_m['Close'].shift(30)\n",
    "\n",
    "for i in range(0,30):\n",
    "    btc_hist_m['C_mes_ant'].loc[[i]]=btc_hist_m['C_mes_ant'][i+30]\n",
    "\n",
    "btc_hist_m['var_mes_ant']=100*btc_hist_m['Close']/btc_hist_m['C_mes_ant']-100"
   ]
  },
  {
   "cell_type": "code",
   "execution_count": 12,
   "metadata": {},
   "outputs": [
    {
     "data": {
      "text/plain": [
       "dia\n",
       "Friday       0.404560\n",
       "Monday       0.615377\n",
       "Saturday     0.344413\n",
       "Sunday       0.001101\n",
       "Thursday     0.268134\n",
       "Tuesday      0.085931\n",
       "Wednesday    0.230156\n",
       "Name: var_dia_ant, dtype: float64"
      ]
     },
     "execution_count": 12,
     "metadata": {},
     "output_type": "execute_result"
    }
   ],
   "source": [
    "#Parece que hay diferencias importantes entre los días de la semana (los lunes sube mucho más que los domingos)\n",
    "btc_hist_m.groupby('dia')['var_dia_ant'].mean()"
   ]
  },
  {
   "cell_type": "code",
   "execution_count": 13,
   "metadata": {},
   "outputs": [
    {
     "data": {
      "text/plain": [
       "dia\n",
       "Friday       58.238636\n",
       "Monday       54.985755\n",
       "Saturday     57.954545\n",
       "Sunday       51.704545\n",
       "Thursday     53.977273\n",
       "Tuesday      51.566952\n",
       "Wednesday    54.415954\n",
       "Name: var_dia_ant, dtype: float64"
      ]
     },
     "execution_count": 13,
     "metadata": {},
     "output_type": "execute_result"
    }
   ],
   "source": [
    "#ahora vamos a mirar si hay diferencia significativa en el número de veces que ha subido la cotización por día de la semana\n",
    "#los \"mejores\" días cambian respecto a los de las magnitudes de las variaciones, pero sigue habiendo diferencias importantes\n",
    "#en este caso hay un 6,5% más de posibilidades de que la cotización suba un sábado que de que suba un martes\n",
    "btc_hist_m.groupby('dia')['var_dia_ant'].apply(lambda x: (x>0).sum()/(x).count())*100"
   ]
  },
  {
   "cell_type": "code",
   "execution_count": 14,
   "metadata": {},
   "outputs": [
    {
     "data": {
      "text/plain": [
       "mes\n",
       "1      1.564241\n",
       "2      0.535664\n",
       "3      0.443199\n",
       "4      5.506904\n",
       "5     23.128376\n",
       "6     15.374033\n",
       "7      7.011485\n",
       "8      7.996869\n",
       "9     -1.780386\n",
       "10     8.395072\n",
       "11    19.022259\n",
       "12    21.062187\n",
       "Name: var_mes_ant, dtype: float64"
      ]
     },
     "execution_count": 14,
     "metadata": {},
     "output_type": "execute_result"
    }
   ],
   "source": [
    "#Parece que hay diferencias significativas entre los meses,\n",
    "#pero no me atrevo a decir que esto sea representativo de nada\n",
    "#porque tenemos muy pocos meses de cada (6 años y pico de datos)\n",
    "btc_hist_m[btc_hist_m['Date']<'2021-01-01'].groupby('mes')['var_mes_ant'].mean()"
   ]
  },
  {
   "cell_type": "code",
   "execution_count": 15,
   "metadata": {},
   "outputs": [
    {
     "name": "stderr",
     "output_type": "stream",
     "text": [
      "/home/dsc/anaconda3/lib/python3.8/site-packages/pandas/core/indexing.py:670: SettingWithCopyWarning: \n",
      "A value is trying to be set on a copy of a slice from a DataFrame\n",
      "\n",
      "See the caveats in the documentation: https://pandas.pydata.org/pandas-docs/stable/user_guide/indexing.html#returning-a-view-versus-a-copy\n",
      "  iloc._setitem_with_indexer(indexer, value)\n"
     ]
    }
   ],
   "source": [
    "#añadimos columnas de variaciones de volumen desde el día antes\n",
    "btc_hist_m['V_dia_ant'] = btc_hist_m['Volume'].shift(1)\n",
    "btc_hist_m['V_dia_ant'].loc[[0]]=btc_hist_m['V_dia_ant'][1]\n",
    "\n",
    "btc_hist_m['var_V_dia_ant']=100*btc_hist_m['Volume']/btc_hist_m['V_dia_ant']-100"
   ]
  },
  {
   "cell_type": "code",
   "execution_count": 16,
   "metadata": {},
   "outputs": [],
   "source": [
    "#ahora creamos el set de datos de verdad, que por ahora va a contener:\n",
    "#los datos de variación de precios diarios de los últimos 30 días\n",
    "#los datos de variación de volúmenes diarios de los últimos 30 días\n",
    "#los datos de variación de precios semanales desde 4 semanas antes a 12 semanas antes\n",
    "#los datos de variación de precios mensuales desde 3 meses antes a 11 meses antes\n",
    "#el día de la semana\n",
    "#si el precio subió (1) o no (0) al día siguiente. Esta es la columna objetivo\n",
    "#todo esto desde el 1 de enero de 2016, más tarde separaremos los datos de training y de test\n",
    "\n",
    "columnasData=['varP0', 'varP1', 'varP2', 'varP3', 'varP4', 'varP5', 'varP6', 'varP7', 'varP8', 'varP9',\n",
    "             'varP10', 'varP11', 'varP12', 'varP13', 'varP14', 'varP15', 'varP16', 'varP17', 'varP18', 'varP19',\n",
    "             'varP20', 'varP21', 'varP22', 'varP23', 'varP24', 'varP25', 'varP26', 'varP27', 'varP28', 'varP29',\n",
    "             'varPs30', 'varPs37', 'varPs44', 'varPs51', 'varPs58', 'varPs65', 'varPs72', 'varPs79', 'varPs86',\n",
    "             'varPm93', 'varPm123', 'varPm153', 'varPm183', 'varPm213', 'varPm243', 'varPm273', 'varPm303',\n",
    "             'varPm333',\n",
    "             'varV0', 'varV1', 'varV2', 'varV3', 'varV4', 'varV5', 'varV6', 'varV7', 'varV8', 'varV9',\n",
    "             'varV10', 'varV11', 'varV12', 'varV13', 'varV14', 'varV15', 'varV16', 'varV17', 'varV18', 'varV19',\n",
    "             'varV20', 'varV21', 'varV22', 'varV23', 'varV24', 'varV25', 'varV26', 'varV27', 'varV28', 'varV29',\n",
    "             'dia', 'subida']\n",
    "data_for_use = pd.DataFrame(columns=columnasData)\n",
    "\n",
    "\n",
    "for i in range(0,btc_hist_m.shape[0]-1):\n",
    "    if btc_hist_m['Date'][i]>pd.to_datetime(arg='2015-12-31',format='%Y-%m-%d'):\n",
    "        dtemp = pd.concat([pd.DataFrame(btc_hist_m['var_dia_ant'][i-29:i+1][::-1].values),\n",
    "                            pd.DataFrame(btc_hist_m['var_sem_ant'][i-92:i-29][::-7].values),\n",
    "                            pd.DataFrame(btc_hist_m['var_mes_ant'][i-362:i-92][::-30].values),\n",
    "                            pd.DataFrame(btc_hist_m['var_V_dia_ant'][i-29:i+1][::-1].values),\n",
    "                            pd.DataFrame([btc_hist_m['dia'][i]]),\n",
    "                            pd.DataFrame([btc_hist_m['var_dia_ant'][i+1]>0])],\n",
    "                          ignore_index=True, axis=0).T\n",
    "\n",
    "        dtemp = dtemp.set_index(keys=[btc_hist_m['Date'].loc[[i]]])\n",
    "        \n",
    "        new_cols = {x: y for x, y in zip(dtemp.columns, data_for_use.columns)}\n",
    "\n",
    "        dtemp = dtemp.rename(columns=new_cols)\n",
    "\n",
    "        data_for_use = data_for_use.append(dtemp.rename(columns=new_cols))\n"
   ]
  },
  {
   "cell_type": "code",
   "execution_count": 17,
   "metadata": {},
   "outputs": [],
   "source": [
    "data_for_use.to_csv('bitcoin_data_for_use_v2.csv')"
   ]
  },
  {
   "cell_type": "code",
   "execution_count": null,
   "metadata": {},
   "outputs": [],
   "source": []
  }
 ],
 "metadata": {
  "kernelspec": {
   "display_name": "Python 3",
   "language": "python",
   "name": "python3"
  },
  "language_info": {
   "codemirror_mode": {
    "name": "ipython",
    "version": 3
   },
   "file_extension": ".py",
   "mimetype": "text/x-python",
   "name": "python",
   "nbconvert_exporter": "python",
   "pygments_lexer": "ipython3",
   "version": "3.8.5"
  }
 },
 "nbformat": 4,
 "nbformat_minor": 4
}
