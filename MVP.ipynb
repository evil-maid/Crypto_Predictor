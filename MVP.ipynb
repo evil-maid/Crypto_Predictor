{
 "cells": [
  {
   "cell_type": "code",
   "execution_count": 1,
   "metadata": {},
   "outputs": [],
   "source": [
    "import pandas as pd\n",
    "import numpy as np\n",
    "from sklearn import metrics\n",
    "\n",
    "from sklearn.model_selection import train_test_split\n",
    "from datetime import datetime\n",
    "from sklearn.pipeline import Pipeline\n",
    "from sklearn.preprocessing import OneHotEncoder\n",
    "\n",
    "from sklearn.compose import ColumnTransformer\n",
    "from sklearn.preprocessing import StandardScaler\n",
    "\n",
    "from sklearn.linear_model import LogisticRegression\n",
    "from sklearn.tree import DecisionTreeClassifier\n",
    "from sklearn.svm import SVC\n",
    "from sklearn.naive_bayes import GaussianNB\n",
    "from sklearn.neighbors import KNeighborsClassifier\n",
    "\n",
    "import numbers\n",
    "from sklearn import model_selection"
   ]
  },
  {
   "cell_type": "code",
   "execution_count": 12,
   "metadata": {},
   "outputs": [],
   "source": [
    "#cargamos los datos diarios de precios de bitcoin, desde 01/01/2016 a 14/09/2021\n",
    "btc_hist = pd.read_csv('./BTC-USD.csv')"
   ]
  },
  {
   "cell_type": "code",
   "execution_count": 13,
   "metadata": {},
   "outputs": [
    {
     "data": {
      "text/html": [
       "<div>\n",
       "<style scoped>\n",
       "    .dataframe tbody tr th:only-of-type {\n",
       "        vertical-align: middle;\n",
       "    }\n",
       "\n",
       "    .dataframe tbody tr th {\n",
       "        vertical-align: top;\n",
       "    }\n",
       "\n",
       "    .dataframe thead th {\n",
       "        text-align: right;\n",
       "    }\n",
       "</style>\n",
       "<table border=\"1\" class=\"dataframe\">\n",
       "  <thead>\n",
       "    <tr style=\"text-align: right;\">\n",
       "      <th></th>\n",
       "      <th>Date</th>\n",
       "      <th>Open</th>\n",
       "      <th>High</th>\n",
       "      <th>Low</th>\n",
       "      <th>Close</th>\n",
       "      <th>Adj Close</th>\n",
       "      <th>Volume</th>\n",
       "    </tr>\n",
       "  </thead>\n",
       "  <tbody>\n",
       "    <tr>\n",
       "      <th>1568</th>\n",
       "      <td>2020-04-17</td>\n",
       "      <td>NaN</td>\n",
       "      <td>NaN</td>\n",
       "      <td>NaN</td>\n",
       "      <td>NaN</td>\n",
       "      <td>NaN</td>\n",
       "      <td>NaN</td>\n",
       "    </tr>\n",
       "    <tr>\n",
       "      <th>1743</th>\n",
       "      <td>2020-10-09</td>\n",
       "      <td>NaN</td>\n",
       "      <td>NaN</td>\n",
       "      <td>NaN</td>\n",
       "      <td>NaN</td>\n",
       "      <td>NaN</td>\n",
       "      <td>NaN</td>\n",
       "    </tr>\n",
       "    <tr>\n",
       "      <th>1746</th>\n",
       "      <td>2020-10-12</td>\n",
       "      <td>NaN</td>\n",
       "      <td>NaN</td>\n",
       "      <td>NaN</td>\n",
       "      <td>NaN</td>\n",
       "      <td>NaN</td>\n",
       "      <td>NaN</td>\n",
       "    </tr>\n",
       "    <tr>\n",
       "      <th>1747</th>\n",
       "      <td>2020-10-13</td>\n",
       "      <td>NaN</td>\n",
       "      <td>NaN</td>\n",
       "      <td>NaN</td>\n",
       "      <td>NaN</td>\n",
       "      <td>NaN</td>\n",
       "      <td>NaN</td>\n",
       "    </tr>\n",
       "  </tbody>\n",
       "</table>\n",
       "</div>"
      ],
      "text/plain": [
       "            Date  Open  High  Low  Close  Adj Close  Volume\n",
       "1568  2020-04-17   NaN   NaN  NaN    NaN        NaN     NaN\n",
       "1743  2020-10-09   NaN   NaN  NaN    NaN        NaN     NaN\n",
       "1746  2020-10-12   NaN   NaN  NaN    NaN        NaN     NaN\n",
       "1747  2020-10-13   NaN   NaN  NaN    NaN        NaN     NaN"
      ]
     },
     "execution_count": 13,
     "metadata": {},
     "output_type": "execute_result"
    }
   ],
   "source": [
    "#Parece que tenemos algunos datos que faltan.\n",
    "\n",
    "btc_hist[btc_hist.isna().any(axis=1)]"
   ]
  },
  {
   "cell_type": "code",
   "execution_count": 14,
   "metadata": {},
   "outputs": [
    {
     "data": {
      "text/html": [
       "<div>\n",
       "<style scoped>\n",
       "    .dataframe tbody tr th:only-of-type {\n",
       "        vertical-align: middle;\n",
       "    }\n",
       "\n",
       "    .dataframe tbody tr th {\n",
       "        vertical-align: top;\n",
       "    }\n",
       "\n",
       "    .dataframe thead th {\n",
       "        text-align: right;\n",
       "    }\n",
       "</style>\n",
       "<table border=\"1\" class=\"dataframe\">\n",
       "  <thead>\n",
       "    <tr style=\"text-align: right;\">\n",
       "      <th></th>\n",
       "      <th>Date</th>\n",
       "      <th>Open</th>\n",
       "      <th>High</th>\n",
       "      <th>Low</th>\n",
       "      <th>Close</th>\n",
       "      <th>Adj Close</th>\n",
       "      <th>Volume</th>\n",
       "    </tr>\n",
       "  </thead>\n",
       "  <tbody>\n",
       "  </tbody>\n",
       "</table>\n",
       "</div>"
      ],
      "text/plain": [
       "Empty DataFrame\n",
       "Columns: [Date, Open, High, Low, Close, Adj Close, Volume]\n",
       "Index: []"
      ]
     },
     "execution_count": 14,
     "metadata": {},
     "output_type": "execute_result"
    }
   ],
   "source": [
    "#Añadimos a mano los datos, sacándolos de coinmarketcap.com\n",
    "#creamos una copia con modificaciones para no tocar los datos originales\n",
    "\n",
    "btc_hist_m=btc_hist.copy()\n",
    "\n",
    "btc_hist_m.loc[[1747]]=['2020-10-13', 11548.72, 11548.98, 11321.22,\n",
    "        11425.90, 11425.90, 24241420251.0]\n",
    "btc_hist_m.loc[[1746]]=['2020-10-12', 11392.64, 11698.47, 11240.69,\n",
    "        11555.36, 11555.36, 26163972642.0]\n",
    "btc_hist_m.loc[[1743]]=['2020-10-09', 10927.91, 11102.67, 10846.85,\n",
    "        11064.46, 11064.46, 22799117613.0]\n",
    "btc_hist_m.loc[[1568]]=['2020-04-17', 7116.55, 7167.18, 7050.33,\n",
    "        7096.18, 7096.18, 32513423567.0]\n",
    "\n",
    "btc_hist_m[btc_hist_m.isna().any(axis=1)]"
   ]
  },
  {
   "cell_type": "code",
   "execution_count": 15,
   "metadata": {},
   "outputs": [],
   "source": [
    "#Transformamos Date a formato fecha\n",
    "btc_hist_m['Date']=pd.to_datetime(arg=btc_hist_m['Date'],format='%Y-%m-%d')"
   ]
  },
  {
   "cell_type": "code",
   "execution_count": 16,
   "metadata": {},
   "outputs": [],
   "source": [
    "#Quitamos las columnas que no necesitamos\n",
    "btc_hist_m = btc_hist_m.drop(labels=['Open','High','Low','Adj Close'], axis=1)"
   ]
  },
  {
   "cell_type": "code",
   "execution_count": 17,
   "metadata": {},
   "outputs": [],
   "source": [
    "btc_hist_m['dia']=btc_hist_m['Date'].dt.day_name()\n",
    "btc_hist_m['mes']=btc_hist_m['Date'].dt.month"
   ]
  },
  {
   "cell_type": "code",
   "execution_count": 18,
   "metadata": {},
   "outputs": [
    {
     "name": "stderr",
     "output_type": "stream",
     "text": [
      "C:\\Program Files\\Anaconda\\lib\\site-packages\\pandas\\core\\indexing.py:205: SettingWithCopyWarning: \n",
      "A value is trying to be set on a copy of a slice from a DataFrame\n",
      "\n",
      "See the caveats in the documentation: http://pandas.pydata.org/pandas-docs/stable/user_guide/indexing.html#returning-a-view-versus-a-copy\n",
      "  self._setitem_with_indexer(indexer, value)\n"
     ]
    }
   ],
   "source": [
    "#añadimos columnas de variaciones de precio desde el día antes, semana antes y mes antes\n",
    "btc_hist_m['C_dia_ant'] = btc_hist_m['Close'].shift(1)\n",
    "btc_hist_m['C_dia_ant'].loc[[0]]=btc_hist_m['C_dia_ant'][1]\n",
    "\n",
    "btc_hist_m['var_dia_ant']=100*btc_hist_m['Close']/btc_hist_m['C_dia_ant']-100"
   ]
  },
  {
   "cell_type": "code",
   "execution_count": 19,
   "metadata": {},
   "outputs": [],
   "source": [
    "btc_hist_m['C_sem_ant'] = btc_hist_m['Close'].shift(7)\n",
    "\n",
    "for i in range(0,7):\n",
    "    btc_hist_m['C_sem_ant'].loc[[i]]=btc_hist_m['C_sem_ant'][i+7]\n",
    "\n",
    "btc_hist_m['var_sem_ant']=100*btc_hist_m['Close']/btc_hist_m['C_sem_ant']-100"
   ]
  },
  {
   "cell_type": "code",
   "execution_count": 20,
   "metadata": {},
   "outputs": [],
   "source": [
    "btc_hist_m['C_mes_ant'] = btc_hist_m['Close'].shift(30)\n",
    "\n",
    "for i in range(0,30):\n",
    "    btc_hist_m['C_mes_ant'].loc[[i]]=btc_hist_m['C_mes_ant'][i+30]\n",
    "\n",
    "btc_hist_m['var_mes_ant']=100*btc_hist_m['Close']/btc_hist_m['C_mes_ant']-100"
   ]
  },
  {
   "cell_type": "code",
   "execution_count": 21,
   "metadata": {},
   "outputs": [
    {
     "data": {
      "text/plain": [
       "dia\n",
       "Friday       0.359302\n",
       "Monday       0.607804\n",
       "Saturday     0.443110\n",
       "Sunday       0.025161\n",
       "Thursday     0.143307\n",
       "Tuesday      0.160206\n",
       "Wednesday    0.399522\n",
       "Name: var_dia_ant, dtype: float64"
      ]
     },
     "execution_count": 21,
     "metadata": {},
     "output_type": "execute_result"
    }
   ],
   "source": [
    "#Parece que hay diferencias importantes entre los días de la semana (los lunes sube mucho más que los domingos)\n",
    "btc_hist_m.groupby('dia')['var_dia_ant'].mean()"
   ]
  },
  {
   "cell_type": "code",
   "execution_count": 52,
   "metadata": {},
   "outputs": [
    {
     "data": {
      "text/plain": [
       "dia\n",
       "Friday       57.046980\n",
       "Monday       54.026846\n",
       "Saturday     59.731544\n",
       "Sunday       53.355705\n",
       "Thursday     53.020134\n",
       "Tuesday      52.348993\n",
       "Wednesday    57.046980\n",
       "Name: var_dia_ant, dtype: float64"
      ]
     },
     "execution_count": 52,
     "metadata": {},
     "output_type": "execute_result"
    }
   ],
   "source": [
    "#ahora vamos a mirar si hay diferencia significativa en el número de veces que ha subido la cotización por día de la semana\n",
    "#los \"mejores\" días cambian respecto a los de las magnitudes de las variaciones, pero sigue habiendo diferencias importantes\n",
    "#en este caso hay un 7,5% más de posibilidades de que la cotización suba un sábado que de que suba un martes\n",
    "btc_hist_m.groupby('dia')['var_dia_ant'].apply(lambda x: (x>0).sum()/(x).count())*100"
   ]
  },
  {
   "cell_type": "code",
   "execution_count": 53,
   "metadata": {},
   "outputs": [
    {
     "data": {
      "text/plain": [
       "mes\n",
       "1      2.585154\n",
       "2      1.348607\n",
       "3     -2.541083\n",
       "4      9.072330\n",
       "5     27.567925\n",
       "6     18.361270\n",
       "7      4.963626\n",
       "8     11.638733\n",
       "9     -1.011568\n",
       "10     7.408049\n",
       "11    16.318836\n",
       "12    20.742637\n",
       "Name: var_mes_ant, dtype: float64"
      ]
     },
     "execution_count": 53,
     "metadata": {},
     "output_type": "execute_result"
    }
   ],
   "source": [
    "#Parece que hay diferencias significativas entre los meses,\n",
    "#pero no me atrevo a decir que esto sea representativo de nada\n",
    "#porque tenemos muy pocos meses de cada (4 años y pico de datos)\n",
    "btc_hist_m[btc_hist_m['Date']<'2021-01-01'].groupby('mes')['var_mes_ant'].mean()"
   ]
  },
  {
   "cell_type": "code",
   "execution_count": 54,
   "metadata": {},
   "outputs": [
    {
     "name": "stderr",
     "output_type": "stream",
     "text": [
      "C:\\Program Files\\Anaconda\\lib\\site-packages\\pandas\\core\\indexing.py:205: SettingWithCopyWarning: \n",
      "A value is trying to be set on a copy of a slice from a DataFrame\n",
      "\n",
      "See the caveats in the documentation: http://pandas.pydata.org/pandas-docs/stable/user_guide/indexing.html#returning-a-view-versus-a-copy\n",
      "  self._setitem_with_indexer(indexer, value)\n"
     ]
    }
   ],
   "source": [
    "#añadimos columnas de variaciones de volumen desde el día antes\n",
    "btc_hist_m['V_dia_ant'] = btc_hist_m['Volume'].shift(1)\n",
    "btc_hist_m['V_dia_ant'].loc[[0]]=btc_hist_m['V_dia_ant'][1]\n",
    "\n",
    "btc_hist_m['var_V_dia_ant']=100*btc_hist_m['Volume']/btc_hist_m['V_dia_ant']-100"
   ]
  },
  {
   "cell_type": "code",
   "execution_count": 63,
   "metadata": {},
   "outputs": [
    {
     "data": {
      "text/html": [
       "<div>\n",
       "<style scoped>\n",
       "    .dataframe tbody tr th:only-of-type {\n",
       "        vertical-align: middle;\n",
       "    }\n",
       "\n",
       "    .dataframe tbody tr th {\n",
       "        vertical-align: top;\n",
       "    }\n",
       "\n",
       "    .dataframe thead th {\n",
       "        text-align: right;\n",
       "    }\n",
       "</style>\n",
       "<table border=\"1\" class=\"dataframe\">\n",
       "  <thead>\n",
       "    <tr style=\"text-align: right;\">\n",
       "      <th></th>\n",
       "      <th>varP0</th>\n",
       "      <th>varP1</th>\n",
       "      <th>varP2</th>\n",
       "      <th>varP3</th>\n",
       "      <th>varP4</th>\n",
       "      <th>varP5</th>\n",
       "      <th>varP6</th>\n",
       "      <th>varP7</th>\n",
       "      <th>varP8</th>\n",
       "      <th>varP9</th>\n",
       "      <th>...</th>\n",
       "      <th>varV22</th>\n",
       "      <th>varV23</th>\n",
       "      <th>varV24</th>\n",
       "      <th>varV25</th>\n",
       "      <th>varV26</th>\n",
       "      <th>varV27</th>\n",
       "      <th>varV28</th>\n",
       "      <th>varV29</th>\n",
       "      <th>dia</th>\n",
       "      <th>subida</th>\n",
       "    </tr>\n",
       "  </thead>\n",
       "  <tbody>\n",
       "    <tr>\n",
       "      <th>2017-01-01</th>\n",
       "      <td>3.5883</td>\n",
       "      <td>0.260602</td>\n",
       "      <td>-1.25928</td>\n",
       "      <td>-0.248382</td>\n",
       "      <td>4.57813</td>\n",
       "      <td>2.81927</td>\n",
       "      <td>1.27507</td>\n",
       "      <td>-0.293611</td>\n",
       "      <td>-2.51219</td>\n",
       "      <td>6.64446</td>\n",
       "      <td>...</td>\n",
       "      <td>-21.6318</td>\n",
       "      <td>-14.2383</td>\n",
       "      <td>-16.9189</td>\n",
       "      <td>-17.03</td>\n",
       "      <td>9.26544</td>\n",
       "      <td>75.6385</td>\n",
       "      <td>-12.9256</td>\n",
       "      <td>-45.498</td>\n",
       "      <td>Sunday</td>\n",
       "      <td>True</td>\n",
       "    </tr>\n",
       "    <tr>\n",
       "      <th>2017-01-02</th>\n",
       "      <td>2.34643</td>\n",
       "      <td>3.5883</td>\n",
       "      <td>0.260602</td>\n",
       "      <td>-1.25928</td>\n",
       "      <td>-0.248382</td>\n",
       "      <td>4.57813</td>\n",
       "      <td>2.81927</td>\n",
       "      <td>1.27507</td>\n",
       "      <td>-0.293611</td>\n",
       "      <td>-2.51219</td>\n",
       "      <td>...</td>\n",
       "      <td>6.44521</td>\n",
       "      <td>-21.6318</td>\n",
       "      <td>-14.2383</td>\n",
       "      <td>-16.9189</td>\n",
       "      <td>-17.03</td>\n",
       "      <td>9.26544</td>\n",
       "      <td>75.6385</td>\n",
       "      <td>-12.9256</td>\n",
       "      <td>Monday</td>\n",
       "      <td>True</td>\n",
       "    </tr>\n",
       "    <tr>\n",
       "      <th>2017-01-03</th>\n",
       "      <td>2.16197</td>\n",
       "      <td>2.34643</td>\n",
       "      <td>3.5883</td>\n",
       "      <td>0.260602</td>\n",
       "      <td>-1.25928</td>\n",
       "      <td>-0.248382</td>\n",
       "      <td>4.57813</td>\n",
       "      <td>2.81927</td>\n",
       "      <td>1.27507</td>\n",
       "      <td>-0.293611</td>\n",
       "      <td>...</td>\n",
       "      <td>33.6005</td>\n",
       "      <td>6.44521</td>\n",
       "      <td>-21.6318</td>\n",
       "      <td>-14.2383</td>\n",
       "      <td>-16.9189</td>\n",
       "      <td>-17.03</td>\n",
       "      <td>9.26544</td>\n",
       "      <td>75.6385</td>\n",
       "      <td>Tuesday</td>\n",
       "      <td>True</td>\n",
       "    </tr>\n",
       "    <tr>\n",
       "      <th>2017-01-04</th>\n",
       "      <td>10.6233</td>\n",
       "      <td>2.16197</td>\n",
       "      <td>2.34643</td>\n",
       "      <td>3.5883</td>\n",
       "      <td>0.260602</td>\n",
       "      <td>-1.25928</td>\n",
       "      <td>-0.248382</td>\n",
       "      <td>4.57813</td>\n",
       "      <td>2.81927</td>\n",
       "      <td>1.27507</td>\n",
       "      <td>...</td>\n",
       "      <td>6.62731</td>\n",
       "      <td>33.6005</td>\n",
       "      <td>6.44521</td>\n",
       "      <td>-21.6318</td>\n",
       "      <td>-14.2383</td>\n",
       "      <td>-16.9189</td>\n",
       "      <td>-17.03</td>\n",
       "      <td>9.26544</td>\n",
       "      <td>Wednesday</td>\n",
       "      <td>False</td>\n",
       "    </tr>\n",
       "    <tr>\n",
       "      <th>2017-01-05</th>\n",
       "      <td>-12.241</td>\n",
       "      <td>10.6233</td>\n",
       "      <td>2.16197</td>\n",
       "      <td>2.34643</td>\n",
       "      <td>3.5883</td>\n",
       "      <td>0.260602</td>\n",
       "      <td>-1.25928</td>\n",
       "      <td>-0.248382</td>\n",
       "      <td>4.57813</td>\n",
       "      <td>2.81927</td>\n",
       "      <td>...</td>\n",
       "      <td>-6.94048</td>\n",
       "      <td>6.62731</td>\n",
       "      <td>33.6005</td>\n",
       "      <td>6.44521</td>\n",
       "      <td>-21.6318</td>\n",
       "      <td>-14.2383</td>\n",
       "      <td>-16.9189</td>\n",
       "      <td>-17.03</td>\n",
       "      <td>Thursday</td>\n",
       "      <td>False</td>\n",
       "    </tr>\n",
       "    <tr>\n",
       "      <th>...</th>\n",
       "      <td>...</td>\n",
       "      <td>...</td>\n",
       "      <td>...</td>\n",
       "      <td>...</td>\n",
       "      <td>...</td>\n",
       "      <td>...</td>\n",
       "      <td>...</td>\n",
       "      <td>...</td>\n",
       "      <td>...</td>\n",
       "      <td>...</td>\n",
       "      <td>...</td>\n",
       "      <td>...</td>\n",
       "      <td>...</td>\n",
       "      <td>...</td>\n",
       "      <td>...</td>\n",
       "      <td>...</td>\n",
       "      <td>...</td>\n",
       "      <td>...</td>\n",
       "      <td>...</td>\n",
       "      <td>...</td>\n",
       "      <td>...</td>\n",
       "    </tr>\n",
       "    <tr>\n",
       "      <th>2021-09-11</th>\n",
       "      <td>0.707485</td>\n",
       "      <td>-3.24955</td>\n",
       "      <td>0.650949</td>\n",
       "      <td>-1.53754</td>\n",
       "      <td>-11.0622</td>\n",
       "      <td>1.70061</td>\n",
       "      <td>3.62158</td>\n",
       "      <td>-0.161418</td>\n",
       "      <td>1.41432</td>\n",
       "      <td>0.984083</td>\n",
       "      <td>...</td>\n",
       "      <td>-6.71278</td>\n",
       "      <td>15.5624</td>\n",
       "      <td>-3.75841</td>\n",
       "      <td>2.05781</td>\n",
       "      <td>5.76953</td>\n",
       "      <td>-0.712548</td>\n",
       "      <td>-1.67874</td>\n",
       "      <td>-5.86936</td>\n",
       "      <td>Saturday</td>\n",
       "      <td>True</td>\n",
       "    </tr>\n",
       "    <tr>\n",
       "      <th>2021-09-12</th>\n",
       "      <td>1.9066</td>\n",
       "      <td>0.707485</td>\n",
       "      <td>-3.24955</td>\n",
       "      <td>0.650949</td>\n",
       "      <td>-1.53754</td>\n",
       "      <td>-11.0622</td>\n",
       "      <td>1.70061</td>\n",
       "      <td>3.62158</td>\n",
       "      <td>-0.161418</td>\n",
       "      <td>1.41432</td>\n",
       "      <td>...</td>\n",
       "      <td>16.9371</td>\n",
       "      <td>-6.71278</td>\n",
       "      <td>15.5624</td>\n",
       "      <td>-3.75841</td>\n",
       "      <td>2.05781</td>\n",
       "      <td>5.76953</td>\n",
       "      <td>-0.712548</td>\n",
       "      <td>-1.67874</td>\n",
       "      <td>Sunday</td>\n",
       "      <td>False</td>\n",
       "    </tr>\n",
       "    <tr>\n",
       "      <th>2021-09-13</th>\n",
       "      <td>-2.38844</td>\n",
       "      <td>1.9066</td>\n",
       "      <td>0.707485</td>\n",
       "      <td>-3.24955</td>\n",
       "      <td>0.650949</td>\n",
       "      <td>-1.53754</td>\n",
       "      <td>-11.0622</td>\n",
       "      <td>1.70061</td>\n",
       "      <td>3.62158</td>\n",
       "      <td>-0.161418</td>\n",
       "      <td>...</td>\n",
       "      <td>-37.4871</td>\n",
       "      <td>16.9371</td>\n",
       "      <td>-6.71278</td>\n",
       "      <td>15.5624</td>\n",
       "      <td>-3.75841</td>\n",
       "      <td>2.05781</td>\n",
       "      <td>5.76953</td>\n",
       "      <td>-0.712548</td>\n",
       "      <td>Monday</td>\n",
       "      <td>True</td>\n",
       "    </tr>\n",
       "    <tr>\n",
       "      <th>2021-09-14</th>\n",
       "      <td>4.73593</td>\n",
       "      <td>-2.38844</td>\n",
       "      <td>1.9066</td>\n",
       "      <td>0.707485</td>\n",
       "      <td>-3.24955</td>\n",
       "      <td>0.650949</td>\n",
       "      <td>-1.53754</td>\n",
       "      <td>-11.0622</td>\n",
       "      <td>1.70061</td>\n",
       "      <td>3.62158</td>\n",
       "      <td>...</td>\n",
       "      <td>35.2138</td>\n",
       "      <td>-37.4871</td>\n",
       "      <td>16.9371</td>\n",
       "      <td>-6.71278</td>\n",
       "      <td>15.5624</td>\n",
       "      <td>-3.75841</td>\n",
       "      <td>2.05781</td>\n",
       "      <td>5.76953</td>\n",
       "      <td>Tuesday</td>\n",
       "      <td>True</td>\n",
       "    </tr>\n",
       "    <tr>\n",
       "      <th>2021-09-15</th>\n",
       "      <td>2.30155</td>\n",
       "      <td>4.73593</td>\n",
       "      <td>-2.38844</td>\n",
       "      <td>1.9066</td>\n",
       "      <td>0.707485</td>\n",
       "      <td>-3.24955</td>\n",
       "      <td>0.650949</td>\n",
       "      <td>-1.53754</td>\n",
       "      <td>-11.0622</td>\n",
       "      <td>1.70061</td>\n",
       "      <td>...</td>\n",
       "      <td>3.0786</td>\n",
       "      <td>35.2138</td>\n",
       "      <td>-37.4871</td>\n",
       "      <td>16.9371</td>\n",
       "      <td>-6.71278</td>\n",
       "      <td>15.5624</td>\n",
       "      <td>-3.75841</td>\n",
       "      <td>2.05781</td>\n",
       "      <td>Wednesday</td>\n",
       "      <td>False</td>\n",
       "    </tr>\n",
       "  </tbody>\n",
       "</table>\n",
       "<p>1719 rows × 80 columns</p>\n",
       "</div>"
      ],
      "text/plain": [
       "               varP0     varP1     varP2     varP3     varP4     varP5  \\\n",
       "2017-01-01    3.5883  0.260602  -1.25928 -0.248382   4.57813   2.81927   \n",
       "2017-01-02   2.34643    3.5883  0.260602  -1.25928 -0.248382   4.57813   \n",
       "2017-01-03   2.16197   2.34643    3.5883  0.260602  -1.25928 -0.248382   \n",
       "2017-01-04   10.6233   2.16197   2.34643    3.5883  0.260602  -1.25928   \n",
       "2017-01-05   -12.241   10.6233   2.16197   2.34643    3.5883  0.260602   \n",
       "...              ...       ...       ...       ...       ...       ...   \n",
       "2021-09-11  0.707485  -3.24955  0.650949  -1.53754  -11.0622   1.70061   \n",
       "2021-09-12    1.9066  0.707485  -3.24955  0.650949  -1.53754  -11.0622   \n",
       "2021-09-13  -2.38844    1.9066  0.707485  -3.24955  0.650949  -1.53754   \n",
       "2021-09-14   4.73593  -2.38844    1.9066  0.707485  -3.24955  0.650949   \n",
       "2021-09-15   2.30155   4.73593  -2.38844    1.9066  0.707485  -3.24955   \n",
       "\n",
       "               varP6     varP7     varP8     varP9  ...   varV22   varV23  \\\n",
       "2017-01-01   1.27507 -0.293611  -2.51219   6.64446  ... -21.6318 -14.2383   \n",
       "2017-01-02   2.81927   1.27507 -0.293611  -2.51219  ...  6.44521 -21.6318   \n",
       "2017-01-03   4.57813   2.81927   1.27507 -0.293611  ...  33.6005  6.44521   \n",
       "2017-01-04 -0.248382   4.57813   2.81927   1.27507  ...  6.62731  33.6005   \n",
       "2017-01-05  -1.25928 -0.248382   4.57813   2.81927  ... -6.94048  6.62731   \n",
       "...              ...       ...       ...       ...  ...      ...      ...   \n",
       "2021-09-11   3.62158 -0.161418   1.41432  0.984083  ... -6.71278  15.5624   \n",
       "2021-09-12   1.70061   3.62158 -0.161418   1.41432  ...  16.9371 -6.71278   \n",
       "2021-09-13  -11.0622   1.70061   3.62158 -0.161418  ... -37.4871  16.9371   \n",
       "2021-09-14  -1.53754  -11.0622   1.70061   3.62158  ...  35.2138 -37.4871   \n",
       "2021-09-15  0.650949  -1.53754  -11.0622   1.70061  ...   3.0786  35.2138   \n",
       "\n",
       "             varV24   varV25   varV26    varV27    varV28    varV29  \\\n",
       "2017-01-01 -16.9189   -17.03  9.26544   75.6385  -12.9256   -45.498   \n",
       "2017-01-02 -14.2383 -16.9189   -17.03   9.26544   75.6385  -12.9256   \n",
       "2017-01-03 -21.6318 -14.2383 -16.9189    -17.03   9.26544   75.6385   \n",
       "2017-01-04  6.44521 -21.6318 -14.2383  -16.9189    -17.03   9.26544   \n",
       "2017-01-05  33.6005  6.44521 -21.6318  -14.2383  -16.9189    -17.03   \n",
       "...             ...      ...      ...       ...       ...       ...   \n",
       "2021-09-11 -3.75841  2.05781  5.76953 -0.712548  -1.67874  -5.86936   \n",
       "2021-09-12  15.5624 -3.75841  2.05781   5.76953 -0.712548  -1.67874   \n",
       "2021-09-13 -6.71278  15.5624 -3.75841   2.05781   5.76953 -0.712548   \n",
       "2021-09-14  16.9371 -6.71278  15.5624  -3.75841   2.05781   5.76953   \n",
       "2021-09-15 -37.4871  16.9371 -6.71278   15.5624  -3.75841   2.05781   \n",
       "\n",
       "                  dia subida  \n",
       "2017-01-01     Sunday   True  \n",
       "2017-01-02     Monday   True  \n",
       "2017-01-03    Tuesday   True  \n",
       "2017-01-04  Wednesday  False  \n",
       "2017-01-05   Thursday  False  \n",
       "...               ...    ...  \n",
       "2021-09-11   Saturday   True  \n",
       "2021-09-12     Sunday  False  \n",
       "2021-09-13     Monday   True  \n",
       "2021-09-14    Tuesday   True  \n",
       "2021-09-15  Wednesday  False  \n",
       "\n",
       "[1719 rows x 80 columns]"
      ]
     },
     "execution_count": 63,
     "metadata": {},
     "output_type": "execute_result"
    }
   ],
   "source": [
    "#ahora creamos el set de datos de verdad, que por ahora va a contener:\n",
    "#los datos de variación de precios diarios de los últimos 30 días\n",
    "#los datos de variación de volúmenes diarios de los últimos 30 días\n",
    "#los datos de variación de precios semanales desde 4 semanas antes a 12 semanas antes\n",
    "#los datos de variación de precios mensuales desde 3 meses antes a 11 meses antes\n",
    "#el día de la semana\n",
    "#si el precio subió (1) o no (0) al día siguiente. Esta es la columna objetivo\n",
    "#todo esto desde el 1 de enero de 2017, más tarde separaremos los datos de training y de test\n",
    "\n",
    "columnasData=['varP0', 'varP1', 'varP2', 'varP3', 'varP4', 'varP5', 'varP6', 'varP7', 'varP8', 'varP9',\n",
    "             'varP10', 'varP11', 'varP12', 'varP13', 'varP14', 'varP15', 'varP16', 'varP17', 'varP18', 'varP19',\n",
    "             'varP20', 'varP21', 'varP22', 'varP23', 'varP24', 'varP25', 'varP26', 'varP27', 'varP28', 'varP29',\n",
    "             'varPs30', 'varPs37', 'varPs44', 'varPs51', 'varPs58', 'varPs65', 'varPs72', 'varPs79', 'varPs86',\n",
    "             'varPm93', 'varPm123', 'varPm153', 'varPm183', 'varPm213', 'varPm243', 'varPm273', 'varPm303',\n",
    "             'varPm333',\n",
    "             'varV0', 'varV1', 'varV2', 'varV3', 'varV4', 'varV5', 'varV6', 'varV7', 'varV8', 'varV9',\n",
    "             'varV10', 'varV11', 'varV12', 'varV13', 'varV14', 'varV15', 'varV16', 'varV17', 'varV18', 'varV19',\n",
    "             'varV20', 'varV21', 'varV22', 'varV23', 'varV24', 'varV25', 'varV26', 'varV27', 'varV28', 'varV29',\n",
    "             'dia', 'subida']\n",
    "data_for_use = pd.DataFrame(columns=columnasData)\n",
    "\n",
    "\n",
    "for i in range(0,btc_hist_m.shape[0]-1):\n",
    "    if btc_hist_m['Date'][i]>pd.to_datetime(arg='2016-12-31',format='%Y-%m-%d'):\n",
    "        dtemp = pd.concat([pd.DataFrame(btc_hist_m['var_dia_ant'][i-29:i+1][::-1].values),\n",
    "                            pd.DataFrame(btc_hist_m['var_sem_ant'][i-92:i-29][::-7].values),\n",
    "                            pd.DataFrame(btc_hist_m['var_mes_ant'][i-362:i-92][::-30].values),\n",
    "                            pd.DataFrame(btc_hist_m['var_V_dia_ant'][i-29:i+1][::-1].values),\n",
    "                            pd.DataFrame([btc_hist_m['dia'][i]]),\n",
    "                            pd.DataFrame([btc_hist_m['var_dia_ant'][i+1]>0])],\n",
    "                          ignore_index=True, axis=0).T\n",
    "\n",
    "        dtemp = dtemp.set_index(keys=[btc_hist_m['Date'].loc[[i]]])\n",
    "        \n",
    "        new_cols = {x: y for x, y in zip(dtemp.columns, data_for_use.columns)}\n",
    "\n",
    "        dtemp = dtemp.rename(columns=new_cols)\n",
    "\n",
    "        data_for_use = data_for_use.append(dtemp.rename(columns=new_cols))\n",
    "\n"
   ]
  },
  {
   "cell_type": "code",
   "execution_count": 65,
   "metadata": {},
   "outputs": [],
   "source": [
    "data_for_use.to_csv('bitcoin_data_for_use_v1.csv')"
   ]
  },
  {
   "cell_type": "markdown",
   "metadata": {},
   "source": [
    "## Aquí es donde se pueden empezar futuras ejecuciones con los datos ya mascados"
   ]
  },
  {
   "cell_type": "code",
   "execution_count": 2,
   "metadata": {},
   "outputs": [],
   "source": [
    "data_for_use = pd.read_csv('./bitcoin_data_for_use_v1.csv', index_col=0)"
   ]
  },
  {
   "cell_type": "code",
   "execution_count": 13,
   "metadata": {},
   "outputs": [],
   "source": [
    "# Partimos los datos en train y test por fechas, sin que sea aleatorio, que es como funcionaría en la realidad el modelo\n",
    "data_train, data_test = train_test_split(data_for_use, shuffle=False, test_size=0.2)"
   ]
  },
  {
   "cell_type": "code",
   "execution_count": 14,
   "metadata": {},
   "outputs": [
    {
     "data": {
      "text/plain": [
       "(344, 80)"
      ]
     },
     "execution_count": 14,
     "metadata": {},
     "output_type": "execute_result"
    }
   ],
   "source": [
    "data_test.shape"
   ]
  },
  {
   "cell_type": "code",
   "execution_count": 15,
   "metadata": {},
   "outputs": [],
   "source": [
    "X_train=data_train.drop(labels=['subida'], axis=1)\n",
    "y_train=data_train['subida']\n",
    "\n",
    "X_test=data_test.drop(labels=['subida'], axis=1)\n",
    "y_test=data_test['subida']"
   ]
  },
  {
   "cell_type": "code",
   "execution_count": 16,
   "metadata": {},
   "outputs": [
    {
     "data": {
      "text/plain": [
       "0.5447272727272727"
      ]
     },
     "execution_count": 16,
     "metadata": {},
     "output_type": "execute_result"
    }
   ],
   "source": [
    "y_train.sum()/y_train.count()"
   ]
  },
  {
   "cell_type": "code",
   "execution_count": 17,
   "metadata": {},
   "outputs": [
    {
     "data": {
      "text/plain": [
       "0.5581395348837209"
      ]
     },
     "execution_count": 17,
     "metadata": {},
     "output_type": "execute_result"
    }
   ],
   "source": [
    "y_test.sum()/y_test.count()"
   ]
  },
  {
   "cell_type": "code",
   "execution_count": 18,
   "metadata": {},
   "outputs": [],
   "source": [
    "#tenemos que hacer one-hot encoding sobre la columna \"dia\" y escalar el resto, que son numéricas\n",
    "\n",
    "number_columns = X_train.select_dtypes('number').columns\n",
    "\n",
    "t=[('dia', \n",
    "    OneHotEncoder(handle_unknown='ignore'),\n",
    "    ['dia']),\n",
    "    ('scaler', StandardScaler(),number_columns)\n",
    "    ]\n",
    "\n",
    "ct = ColumnTransformer(transformers=t, remainder='passthrough')\n",
    "\n",
    "X_train=ct.fit_transform(X_train)\n",
    "X_test=ct.fit_transform(X_test)"
   ]
  },
  {
   "cell_type": "code",
   "execution_count": 19,
   "metadata": {},
   "outputs": [
    {
     "data": {
      "text/plain": [
       "LogisticRegression(C=1.0, class_weight=None, dual=False, fit_intercept=True,\n",
       "                   intercept_scaling=1, l1_ratio=None, max_iter=100,\n",
       "                   multi_class='auto', n_jobs=None, penalty='l2',\n",
       "                   random_state=None, solver='lbfgs', tol=0.0001, verbose=0,\n",
       "                   warm_start=False)"
      ]
     },
     "execution_count": 19,
     "metadata": {},
     "output_type": "execute_result"
    }
   ],
   "source": [
    "#Probamos con LogisticRegression\n",
    "lr = LogisticRegression()\n",
    "lr.fit(X_train, y_train)"
   ]
  },
  {
   "cell_type": "code",
   "execution_count": 20,
   "metadata": {},
   "outputs": [],
   "source": [
    "y_pred = lr.predict(X_test)"
   ]
  },
  {
   "cell_type": "code",
   "execution_count": 21,
   "metadata": {},
   "outputs": [
    {
     "data": {
      "text/plain": [
       "array([[ 54,  98],\n",
       "       [ 79, 113]], dtype=int64)"
      ]
     },
     "execution_count": 21,
     "metadata": {},
     "output_type": "execute_result"
    }
   ],
   "source": [
    "metrics.confusion_matrix(y_test, y_pred)"
   ]
  },
  {
   "cell_type": "code",
   "execution_count": 22,
   "metadata": {},
   "outputs": [
    {
     "data": {
      "text/plain": [
       "0.5607940446650124"
      ]
     },
     "execution_count": 22,
     "metadata": {},
     "output_type": "execute_result"
    }
   ],
   "source": [
    "metrics.f1_score(y_test,y_pred)"
   ]
  },
  {
   "cell_type": "code",
   "execution_count": 23,
   "metadata": {},
   "outputs": [
    {
     "data": {
      "text/plain": [
       "0.48546511627906974"
      ]
     },
     "execution_count": 23,
     "metadata": {},
     "output_type": "execute_result"
    }
   ],
   "source": [
    "metrics.accuracy_score(y_test,y_pred)"
   ]
  },
  {
   "cell_type": "code",
   "execution_count": 24,
   "metadata": {},
   "outputs": [
    {
     "data": {
      "text/plain": [
       "DecisionTreeClassifier(ccp_alpha=0.0, class_weight=None, criterion='gini',\n",
       "                       max_depth=20, max_features=None, max_leaf_nodes=None,\n",
       "                       min_impurity_decrease=0.0, min_impurity_split=None,\n",
       "                       min_samples_leaf=1, min_samples_split=2,\n",
       "                       min_weight_fraction_leaf=0.0, presort='deprecated',\n",
       "                       random_state=None, splitter='best')"
      ]
     },
     "execution_count": 24,
     "metadata": {},
     "output_type": "execute_result"
    }
   ],
   "source": [
    "#Probamos con DecisionTreeClassifier\n",
    "dt = DecisionTreeClassifier(max_depth=20)\n",
    "dt.fit(X_train, y_train)"
   ]
  },
  {
   "cell_type": "code",
   "execution_count": 25,
   "metadata": {},
   "outputs": [],
   "source": [
    "y_pred = dt.predict(X_test)"
   ]
  },
  {
   "cell_type": "code",
   "execution_count": 26,
   "metadata": {},
   "outputs": [
    {
     "data": {
      "text/plain": [
       "array([[72, 80],\n",
       "       [94, 98]], dtype=int64)"
      ]
     },
     "execution_count": 26,
     "metadata": {},
     "output_type": "execute_result"
    }
   ],
   "source": [
    "metrics.confusion_matrix(y_test, y_pred)"
   ]
  },
  {
   "cell_type": "code",
   "execution_count": 27,
   "metadata": {},
   "outputs": [
    {
     "data": {
      "text/plain": [
       "0.5297297297297298"
      ]
     },
     "execution_count": 27,
     "metadata": {},
     "output_type": "execute_result"
    }
   ],
   "source": [
    "metrics.f1_score(y_test,y_pred)"
   ]
  },
  {
   "cell_type": "code",
   "execution_count": 28,
   "metadata": {},
   "outputs": [
    {
     "data": {
      "text/plain": [
       "0.4941860465116279"
      ]
     },
     "execution_count": 28,
     "metadata": {},
     "output_type": "execute_result"
    }
   ],
   "source": [
    "metrics.accuracy_score(y_test,y_pred)"
   ]
  },
  {
   "cell_type": "code",
   "execution_count": 44,
   "metadata": {},
   "outputs": [
    {
     "data": {
      "text/plain": [
       "SVC(C=1.0, break_ties=False, cache_size=200, class_weight=None, coef0=0.0,\n",
       "    decision_function_shape='ovr', degree=1, gamma='scale', kernel='poly',\n",
       "    max_iter=-1, probability=True, random_state=None, shrinking=True, tol=0.001,\n",
       "    verbose=False)"
      ]
     },
     "execution_count": 44,
     "metadata": {},
     "output_type": "execute_result"
    }
   ],
   "source": [
    "#Probamos con SVC\n",
    "sv = SVC(probability=True, kernel='poly', degree=1)\n",
    "sv.fit(X_train, y_train)"
   ]
  },
  {
   "cell_type": "code",
   "execution_count": 45,
   "metadata": {},
   "outputs": [],
   "source": [
    "y_pred = sv.predict(X_test)"
   ]
  },
  {
   "cell_type": "code",
   "execution_count": 46,
   "metadata": {},
   "outputs": [
    {
     "data": {
      "text/plain": [
       "array([[ 42, 110],\n",
       "       [ 43, 149]], dtype=int64)"
      ]
     },
     "execution_count": 46,
     "metadata": {},
     "output_type": "execute_result"
    }
   ],
   "source": [
    "metrics.confusion_matrix(y_test, y_pred)"
   ]
  },
  {
   "cell_type": "code",
   "execution_count": 47,
   "metadata": {},
   "outputs": [
    {
     "data": {
      "text/plain": [
       "0.6607538802660754"
      ]
     },
     "execution_count": 47,
     "metadata": {},
     "output_type": "execute_result"
    }
   ],
   "source": [
    "metrics.f1_score(y_test,y_pred)"
   ]
  },
  {
   "cell_type": "code",
   "execution_count": 48,
   "metadata": {},
   "outputs": [
    {
     "data": {
      "text/plain": [
       "0.5552325581395349"
      ]
     },
     "execution_count": 48,
     "metadata": {},
     "output_type": "execute_result"
    }
   ],
   "source": [
    "metrics.accuracy_score(y_test,y_pred)"
   ]
  },
  {
   "cell_type": "code",
   "execution_count": 34,
   "metadata": {},
   "outputs": [
    {
     "data": {
      "text/plain": [
       "GaussianNB(priors=None, var_smoothing=1e-09)"
      ]
     },
     "execution_count": 34,
     "metadata": {},
     "output_type": "execute_result"
    }
   ],
   "source": [
    "#Probamos con GaussianNB\n",
    "gn = GaussianNB()\n",
    "gn.fit(X_train, y_train)"
   ]
  },
  {
   "cell_type": "code",
   "execution_count": 35,
   "metadata": {},
   "outputs": [],
   "source": [
    "y_pred = gn.predict(X_test)"
   ]
  },
  {
   "cell_type": "code",
   "execution_count": 36,
   "metadata": {},
   "outputs": [
    {
     "data": {
      "text/plain": [
       "array([[107,  45],\n",
       "       [148,  44]], dtype=int64)"
      ]
     },
     "execution_count": 36,
     "metadata": {},
     "output_type": "execute_result"
    }
   ],
   "source": [
    "metrics.confusion_matrix(y_test, y_pred)"
   ]
  },
  {
   "cell_type": "code",
   "execution_count": 37,
   "metadata": {},
   "outputs": [
    {
     "data": {
      "text/plain": [
       "0.3131672597864769"
      ]
     },
     "execution_count": 37,
     "metadata": {},
     "output_type": "execute_result"
    }
   ],
   "source": [
    "metrics.f1_score(y_test,y_pred)"
   ]
  },
  {
   "cell_type": "code",
   "execution_count": 38,
   "metadata": {},
   "outputs": [
    {
     "data": {
      "text/plain": [
       "0.438953488372093"
      ]
     },
     "execution_count": 38,
     "metadata": {},
     "output_type": "execute_result"
    }
   ],
   "source": [
    "metrics.accuracy_score(y_test,y_pred)"
   ]
  },
  {
   "cell_type": "code",
   "execution_count": 39,
   "metadata": {},
   "outputs": [
    {
     "data": {
      "text/plain": [
       "KNeighborsClassifier(algorithm='auto', leaf_size=30, metric='minkowski',\n",
       "                     metric_params=None, n_jobs=None, n_neighbors=10, p=2,\n",
       "                     weights='uniform')"
      ]
     },
     "execution_count": 39,
     "metadata": {},
     "output_type": "execute_result"
    }
   ],
   "source": [
    "#probamos con KNeighborsClassifier\n",
    "kn = KNeighborsClassifier(n_neighbors=10)\n",
    "kn.fit(X_train, y_train)"
   ]
  },
  {
   "cell_type": "code",
   "execution_count": 40,
   "metadata": {},
   "outputs": [],
   "source": [
    "y_pred = kn.predict(X_test)"
   ]
  },
  {
   "cell_type": "code",
   "execution_count": 41,
   "metadata": {},
   "outputs": [
    {
     "data": {
      "text/plain": [
       "array([[ 74,  78],\n",
       "       [ 89, 103]], dtype=int64)"
      ]
     },
     "execution_count": 41,
     "metadata": {},
     "output_type": "execute_result"
    }
   ],
   "source": [
    "metrics.confusion_matrix(y_test, y_pred)"
   ]
  },
  {
   "cell_type": "code",
   "execution_count": 42,
   "metadata": {},
   "outputs": [
    {
     "data": {
      "text/plain": [
       "0.5522788203753352"
      ]
     },
     "execution_count": 42,
     "metadata": {},
     "output_type": "execute_result"
    }
   ],
   "source": [
    "metrics.f1_score(y_test,y_pred)"
   ]
  },
  {
   "cell_type": "code",
   "execution_count": 43,
   "metadata": {},
   "outputs": [
    {
     "data": {
      "text/plain": [
       "0.5145348837209303"
      ]
     },
     "execution_count": 43,
     "metadata": {},
     "output_type": "execute_result"
    }
   ],
   "source": [
    "metrics.accuracy_score(y_test,y_pred)"
   ]
  },
  {
   "cell_type": "markdown",
   "metadata": {},
   "source": [
    "## Esto del gridsearch habría que hacerlo para todos los modelos"
   ]
  },
  {
   "cell_type": "code",
   "execution_count": 513,
   "metadata": {},
   "outputs": [
    {
     "data": {
      "text/plain": [
       "GridSearchCV(cv=3, error_score=nan,\n",
       "             estimator=KNeighborsClassifier(algorithm='auto', leaf_size=30,\n",
       "                                            metric='minkowski',\n",
       "                                            metric_params=None, n_jobs=None,\n",
       "                                            n_neighbors=5, p=2,\n",
       "                                            weights='uniform'),\n",
       "             iid='deprecated', n_jobs=None,\n",
       "             param_grid={'n_neighbors': range(1, 50)}, pre_dispatch='2*n_jobs',\n",
       "             refit=True, return_train_score=False, scoring='accuracy',\n",
       "             verbose=0)"
      ]
     },
     "execution_count": 513,
     "metadata": {},
     "output_type": "execute_result"
    }
   ],
   "source": [
    "kn = KNeighborsClassifier()\n",
    "gs = model_selection.GridSearchCV(kn, param_grid={'n_neighbors':range(1, 50)}, cv=3, scoring='accuracy')\n",
    "gs.fit(X_train, y_train)"
   ]
  },
  {
   "cell_type": "code",
   "execution_count": 514,
   "metadata": {},
   "outputs": [
    {
     "data": {
      "text/plain": [
       "{'n_neighbors': 49}"
      ]
     },
     "execution_count": 514,
     "metadata": {},
     "output_type": "execute_result"
    }
   ],
   "source": [
    "gs.best_params_"
   ]
  },
  {
   "cell_type": "code",
   "execution_count": null,
   "metadata": {},
   "outputs": [],
   "source": []
  },
  {
   "cell_type": "code",
   "execution_count": null,
   "metadata": {},
   "outputs": [],
   "source": []
  },
  {
   "cell_type": "code",
   "execution_count": null,
   "metadata": {},
   "outputs": [],
   "source": []
  }
 ],
 "metadata": {
  "kernelspec": {
   "display_name": "Python 3",
   "language": "python",
   "name": "python3"
  },
  "language_info": {
   "codemirror_mode": {
    "name": "ipython",
    "version": 3
   },
   "file_extension": ".py",
   "mimetype": "text/x-python",
   "name": "python",
   "nbconvert_exporter": "python",
   "pygments_lexer": "ipython3",
   "version": "3.8.5"
  }
 },
 "nbformat": 4,
 "nbformat_minor": 4
}
